{
 "cells": [
  {
   "cell_type": "code",
   "execution_count": null,
   "id": "cf1d82c0-5aec-4152-8527-21c74c8bff80",
   "metadata": {},
   "outputs": [],
   "source": [
    "# Bulk downloading netCDF files from Aphrodite website."
   ]
  },
  {
   "cell_type": "code",
   "execution_count": 2,
   "id": "c9aa825b-1609-4140-9d51-29c0cfb5ae6e",
   "metadata": {},
   "outputs": [],
   "source": [
    "import requests\n",
    "import pandas as pd\n",
    "import numpy as np"
   ]
  },
  {
   "cell_type": "markdown",
   "id": "653a5893-0fc7-4753-a15b-3a82fca57af9",
   "metadata": {
    "tags": []
   },
   "source": [
    "#### The following commands execute the functions specified below\n",
    "* [username and password] provides log in access\n",
    "* url and common file name gives access\n",
    "* np.arange specific the files to be downloaded with upper limit = +1 \n"
   ]
  },
  {
   "cell_type": "markdown",
   "id": "9ecd96e1-2c31-476c-a95e-37337ca3e60b",
   "metadata": {},
   "source": [
    "* Writing the for loop\n",
    "    * requests gets the url and redirects allows download in another window\n",
    "    * specifying .gz in the open-function\n"
   ]
  },
  {
   "cell_type": "code",
   "execution_count": 8,
   "id": "2ab2bb60-a8bd-4299-98ab-7847f07d1a83",
   "metadata": {},
   "outputs": [],
   "source": [
    "# username = 'gbondomadaar@gmail.com'\n",
    "# password = 'oeZZn4wb'\n",
    "years = np.arange(1, 13) #download files from 2012 to 2015"
   ]
  },
  {
   "cell_type": "code",
   "execution_count": 9,
   "id": "d1315999-8ea4-4f4c-8716-eb5aa06e9601",
   "metadata": {},
   "outputs": [],
   "source": [
    "#url = 'https://opendata.dwd.de/climate_environment/CDC/grids_germany/multi_annual/soil_moist/grids_germany_multi_annual_soil_moist_1991-2020'"
   ]
  },
  {
   "cell_type": "code",
   "execution_count": 12,
   "id": "99c2e9cf-edfc-4187-b16b-ae9cc0d77259",
   "metadata": {
    "tags": []
   },
   "outputs": [],
   "source": [
    "for year in years:\n",
    "    url = 'https://opendata.dwd.de/climate_environment/CDC/grids_germany/multi_annual/soil_moist/grids_germany_multi_annual_soil_moist_1991-2020_' + str(year)+ '.asc.gz'\n",
    "    r = requests.get(url, allow_redirects = True)\n",
    "    open(str(year)+ '.gz', 'wb').write(r.content)"
   ]
  },
  {
   "cell_type": "code",
   "execution_count": null,
   "id": "09297ba1-7478-42a0-bc35-b6f5beb23f4b",
   "metadata": {},
   "outputs": [],
   "source": []
  }
 ],
 "metadata": {
  "kernelspec": {
   "display_name": "Python 3 (ipykernel)",
   "language": "python",
   "name": "python3"
  },
  "language_info": {
   "codemirror_mode": {
    "name": "ipython",
    "version": 3
   },
   "file_extension": ".py",
   "mimetype": "text/x-python",
   "name": "python",
   "nbconvert_exporter": "python",
   "pygments_lexer": "ipython3",
   "version": "3.9.7"
  }
 },
 "nbformat": 4,
 "nbformat_minor": 5
}
